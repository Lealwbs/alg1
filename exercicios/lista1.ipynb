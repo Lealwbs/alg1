{
 "cells": [
  {
   "cell_type": "markdown",
   "id": "fb6d9f0c",
   "metadata": {},
   "source": [
    "# Universidade Federal de Minas Gerais (UFMG) \n",
    "### DCC206 Algoritmos 1 / Professor: Renato Vimieiro\n",
    "#### Lista de exercícios de fixação 1: Algoritmos em grafos"
   ]
  },
  {
   "cell_type": "markdown",
   "id": "12f3bbbe",
   "metadata": {},
   "source": [
    "1. Considerando o grafo abaixo, execute uma DFS a partir do vértice a. Mostre o tempo de descoberta e finalização de cada vértice e o vetor de antecessores.\n",
    "\n",
    "![IMG1](images/img1.png)"
   ]
  },
  {
   "cell_type": "markdown",
   "id": "f5da8f72",
   "metadata": {},
   "source": [
    "#### Resposta:\n",
    "\n",
    "![IMG1.1](images/img1.1.png)"
   ]
  },
  {
   "cell_type": "markdown",
   "id": "b9400cd4",
   "metadata": {},
   "source": [
    "2. Acredita-se que o matemático francês Siméon Poisson se interessou pela área quando se deparou com uma\n",
    "versão antiga do seguinte problema. Dois amigos queriam dividir igualmente uma jarra de água de 8 litros\n",
    "completamente cheia. Eles dispunham apenas da jarra cheia e de outras duas com capacidade para 5 e 3\n",
    "litros. Supondo que eles só podem encher ou esvaziar o conteúdo de uma jarra por completo e que as perdas\n",
    "nesse processo são irrisórias, modele o problema usando grafos e mostre como os algoritmos vistos na aula\n",
    "podem resolvê-lo."
   ]
  },
  {
   "cell_type": "markdown",
   "id": "ab43dde5",
   "metadata": {},
   "source": [
    "3. Descreva um algoritmo linear para determinar se um grafo não-direcionado possui um ciclo. Caso possua,\n",
    "seu algoritmo deve exibir um dos ciclos existentes."
   ]
  },
  {
   "cell_type": "markdown",
   "id": "06cf4ae6",
   "metadata": {},
   "source": [
    "4. Uma rede de escolas deseja instalar uma rede conectando as diferentes unidades da instituição para disponi-\n",
    "bilização de arquivos internos. Durante os estudos para a implantação, os técnicos perceberam que a latência\n",
    "da transmissão era proporcional ao número de links percorridos entre o servidor de arquivos e a unidade\n",
    "consumidora. Dessa forma, eles desejam instalar o servidor no ponto mais central da rede. Em grafos, a\n",
    "excentricidade de um vértice é a maior entre as menores distâncias dele para os demais. O centro do grafo,\n",
    "na verdade definido como o raio do grafo, é o vértice com a menor excentricidade. Apresente um algoritmo\n",
    "com custo O(|V||E|) para encontrar o vértice no qual será instalado o servidor."
   ]
  },
  {
   "cell_type": "markdown",
   "id": "cc4bfd2f",
   "metadata": {},
   "source": [
    "5. (Kleinberg & Tardos, 3.4) Um grupo de amantes de borboletas e mariposas coletaram n indivíduos em\n",
    "uma expedição. Eles acreditam que cada borboleta coletada pertence a uma de duas espécies diferentes,\n",
    "que chamaremos de A e B. Eles gostariam de dividi-las em dois grupos — os que pertencem a A e os que\n",
    "pertencem a B. Como é muito difícil para eles rotular diretamente qualquer espécime, eles decidem adotar a\n",
    "seguinte abordagem.\n",
    "Para cada par de indivíduos i e j, eles os estudam cuidadosamente lado a lado. Se estiverem confiantes o\n",
    "suficiente em seu julgamento, eles rotulam o par (i, j) como \"mesmo\"(significando que acreditam que ambos\n",
    "vêm da mesma espécie) ou \"diferente\"(significando que acreditam que vêm de espécies diferentes). Eles\n",
    "também têm a opção de não emitir nenhum julgamento sobre um determinado par, caso em que chamaremos\n",
    "o par de ambíguo.\n",
    "Então agora eles têm a coleção de n espécimes, bem como uma coleção de m julgamentos (ou \"mesmo\"ou\n",
    "\"diferente\") para os pares que não foram declarados ambíguos. Eles gostariam de saber se esses dados\n",
    "são consistentes com a ideia de que cada borboleta é de uma das espécies A ou B. Mais concretamente,\n",
    "declararemos os m julgamentos como consistentes se for possível rotular cada espécime como A ou B de tal\n",
    "forma que para cada par (i, j) rotulado como \"mesmo\", seja o caso que i e j tenham o mesmo rótulo; e para\n",
    "cada par (i, j) rotulado como \"diferente\", seja o caso que i e j tenham rótulos diferentes.\n",
    "Eles estão no meio de um trabalho tedioso para descobrir se seus julgamentos são consistentes, quando\n",
    "perceberam que você poderia ajudá-los. Descreva um algoritmo que responderia a essa pergunta em tempo\n",
    "O(m+n)."
   ]
  },
  {
   "cell_type": "markdown",
   "id": "46e0f039",
   "metadata": {},
   "source": [
    "6. Quantas ordenações topológicas distintas o grafo a abaixo possui? Descreva o raciocínio usado para encontrar\n",
    "a solução.\n",
    "\n",
    "![IMG6](images/img6.png)"
   ]
  },
  {
   "cell_type": "markdown",
   "id": "4cfb7ae6",
   "metadata": {},
   "source": [
    "7. Execute o algoritmo de Prim para encontrar uma árvore geradora mínima para o grafo abaixo.\n",
    "\n",
    "![IMG7](images/img7.png)"
   ]
  },
  {
   "cell_type": "markdown",
   "id": "36767198",
   "metadata": {},
   "source": [
    "8. Repita o exercício anterior com o algoritmo de Kruskal."
   ]
  },
  {
   "cell_type": "markdown",
   "id": "5c80731a",
   "metadata": {},
   "source": [
    "9. Um trabalhador desonesto foi contratado por uma empresa para fazer a instalação de uma rede de distribuição\n",
    "de energia elétrica. A empresa deseja conectar npontos a partir dos quais ela se encarregará de distribuir para\n",
    "os pontos de consumo. Ela solicitou ao trabalhador que ele não implementasse nenhum nível de redundância\n",
    "nas conexões. Além disso, ela solicitou que o custo da instalação fosse o menor possível. O contrato de\n",
    "prestação de serviço entre eles previa o pagamento por hora de trabalho. Assim, dada a sua desonestidade, o\n",
    "trabalhador decidiu não respeitar totalmente as solicitações da empresa. Ele decidiu não implementar nenhum\n",
    "nível de redundância, mas escolheu implantar conexões que exigissem o maior número de horas trabalhadas.\n",
    "Descreva um algoritmo que resolva o problema e apresente seu custo computacional (tempo)."
   ]
  },
  {
   "cell_type": "markdown",
   "id": "e7edbf1c",
   "metadata": {},
   "source": [
    "10. Execute o algoritmo de Dijkstra no grafo abaixo para encontrar os menores caminhos de spara os demais\n",
    "vértices. Mostre a evolução do vetor de antecessores e dos custos de cada vértice até o fim da execução (crie\n",
    "uma tabela em que cada linha é uma iteração do algoritmo e as colunas são os vértices ).\n",
    "\n",
    "![IMG10](images/img10.png)"
   ]
  },
  {
   "cell_type": "markdown",
   "id": "2744647a",
   "metadata": {},
   "source": [
    "11. É possível encontrar os menores caminhos de spara os demais vértices no grafo abaixo? Se sim, encontre-os.\n",
    "Se não, justifique sua resposta.\n",
    "\n",
    "![IMG11](images/img11.png)"
   ]
  },
  {
   "cell_type": "markdown",
   "id": "18855ff9",
   "metadata": {},
   "source": [
    "12. (Goodrich & Tamassia, A14.2) Suponha que CONTROLE, uma agência secreta de contraespionagem do\n",
    "governo brasileiro, com sede em Brasília, tenha construído uma rede de comunicação que conecta nestações\n",
    "espalhadas pelo mundo usando mcanais de comunicação entre pares de estações. Suponha ainda que a\n",
    "agência de espionagem do mal, a CAOS, seja capaz de interceptar um certo número kdesses canais e que a\n",
    "CONTROLE conheça os kcanais que foram comprometidos. Agora, a CONTROLE tem uma mensagem que\n",
    "deseja enviar de sua estação-sede, s, para uma de suas estações de campo, t. O problema é que a mensagem é\n",
    "ultrassecreta e deve percorrer um caminho que minimize o número de canais comprometidos. Explique como\n",
    "modelar este problema como um problema de caminho mais curto e descreva e analise um algoritmo eficiente\n",
    "para resolvê-lo."
   ]
  },
  {
   "cell_type": "markdown",
   "id": "a40461a7",
   "metadata": {},
   "source": [
    "13. Considere o seguinte fluxo:\n",
    "(a) Qual o valor do fluxo atual na rede?\n",
    "(b) Esse fluxo é máximo? Se for, demonstre sua resposta. Se não for, qual o fluxo máximo?\n",
    "\n",
    "![IMG13](images/img13.png)"
   ]
  },
  {
   "cell_type": "markdown",
   "id": "3ce2c487",
   "metadata": {},
   "source": [
    "14. Execute o algoritmo Capacity Scaling no grafo abaixo. Mostre os caminhos aumentantes encontrados durante\n",
    "cada fase.\n",
    "\n",
    "![IMG14](images/img14.png)"
   ]
  },
  {
   "cell_type": "markdown",
   "id": "ce4c8b39",
   "metadata": {},
   "source": [
    "15. (Goodrich & Tamassia, A16.1) Desafio: Em 2006, a cidade de Pequim, na China, instituiu uma política que\n",
    "limita os moradores a possuir no máximo um cachorro por domicílio. Imagine que você está gerenciando um\n",
    "site de adoção de animais online para a cidade. Seu site contém fotos de filhotes adoráveis disponíveis para\n",
    "adoção e permite que moradores de Pequim sem cães cliquem em quantos filhotes quiserem, com a condição\n",
    "de que possam adotar no máximo um. Suponha agora que você coletou as preferências de n moradores\n",
    "de Pequim para seus m filhotes. Descreva um algoritmo eficiente para atribuir filhotes a moradores que\n",
    "proporcione o número máximo de adoções possível, respeitando as restrições de que cada morador só adotará\n",
    "um filhote de que goste e que nenhum morador pode adotar mais de um filhote."
   ]
  }
 ],
 "metadata": {
  "kernelspec": {
   "display_name": "Python 3",
   "language": "python",
   "name": "python3"
  },
  "language_info": {
   "codemirror_mode": {
    "name": "ipython",
    "version": 3
   },
   "file_extension": ".py",
   "mimetype": "text/x-python",
   "name": "python",
   "nbconvert_exporter": "python",
   "pygments_lexer": "ipython3",
   "version": "3.13.7"
  }
 },
 "nbformat": 4,
 "nbformat_minor": 5
}
